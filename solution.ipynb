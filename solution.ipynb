{
 "cells": [
  {
   "cell_type": "markdown",
   "metadata": {},
   "source": [
    "# Data Science Workshop 1: Fundamentals of Python (Solutions)\n",
    "\n",
    "Feel free to go through to refer back to the workshop content when solving these problems!\n",
    "\n",
    "## Debugging problems\n",
    "The following problems will have written code that is incorrect in some way. Your job will be to debug it and fix it so that it works as intended. When debugging code the error messages can often tell you where a problem may lie. Here the comments indicate what the code is intended to do.\n",
    "\n",
    "### 1)  \n",
    "\n",
    "Print:\n",
    "\n",
    "```\n",
    "Hello World\n",
    "\n",
    "My name is: <insert your_name>\n",
    "\n",
    "I am studying: <Insert your_course>\n",
    "\n",
    "I am excited to learn Data Science\n",
    "```"
   ]
  },
  {
   "cell_type": "code",
   "execution_count": null,
   "metadata": {},
   "outputs": [],
   "source": [
    "print(\"Hello World\")\n",
    "\n",
    "print(\"My name is: \", \"Philip Wilkinson\")\n",
    "\n",
    "print(\"I am studying:\", \"Advanced Spatital Analysis\")\n",
    "\n",
    "print(\"I am excited to learn Data Science\")"
   ]
  },
  {
   "cell_type": "markdown",
   "metadata": {},
   "source": [
    "### 2) \n",
    "\n",
    "Assign \"3\", 6.2, False to a, b and c and print the results:"
   ]
  },
  {
   "cell_type": "code",
   "execution_count": null,
   "metadata": {},
   "outputs": [],
   "source": [
    "a, b ,c = \"3\", 6.2, False\n",
    "\n",
    "print(a)\n",
    "\n",
    "print(b)\n",
    "\n",
    "print(c)"
   ]
  },
  {
   "cell_type": "markdown",
   "metadata": {},
   "source": [
    "### 3)\n",
    "\n",
    "Perform the following mathematical operations:"
   ]
  },
  {
   "cell_type": "code",
   "execution_count": null,
   "metadata": {},
   "outputs": [],
   "source": [
    "#divide 56 by 7\n",
    "print(56/7)\n",
    "\n",
    "#Find the remainder of 131 divided by 13\n",
    "print(131%13)\n",
    "\n",
    "#find how many whole times 56 goes into 15426\n",
    "print(15426//56)\n",
    "\n",
    "#find 7 to the power of 3\n",
    "print(7**3)"
   ]
  },
  {
   "cell_type": "markdown",
   "metadata": {},
   "source": [
    "## Coding from scratch\n",
    "\n",
    "This section will include problems where no code is given.\n",
    "\n",
    "### 1) \n",
    "\n",
    "Define a variable `c` to be a string of numbers $367$. Multiply this by 2. Convert the result to a integer in a variable `b` and divide by $6*12$ and print the result."
   ]
  },
  {
   "cell_type": "code",
   "execution_count": null,
   "metadata": {},
   "outputs": [],
   "source": [
    "#define the variable\n",
    "c = \"367\"\n",
    "\n",
    "#multiple this by 2\n",
    "c = c*2\n",
    "\n",
    "#convert this to a variable as `b`\n",
    "b = int(c)\n",
    "\n",
    "#divide by 563/12\n",
    "b = b/(6*12)\n",
    "\n",
    "#print the result\n",
    "print(b)"
   ]
  }
 ],
 "metadata": {
  "kernelspec": {
   "display_name": "Python 3 (ipykernel)",
   "language": "python",
   "name": "python3"
  },
  "language_info": {
   "codemirror_mode": {
    "name": "ipython",
    "version": 3
   },
   "file_extension": ".py",
   "mimetype": "text/x-python",
   "name": "python",
   "nbconvert_exporter": "python",
   "pygments_lexer": "ipython3",
   "version": "3.9.6"
  }
 },
 "nbformat": 4,
 "nbformat_minor": 2
}
