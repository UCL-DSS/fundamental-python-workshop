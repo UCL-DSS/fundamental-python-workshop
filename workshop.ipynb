{
 "cells": [
  {
   "cell_type": "markdown",
   "metadata": {},
   "source": [
    "# [PY01] Introduction to Python Programming - workshop\n",
    "\n",
    "## Fundamentals of Python\n",
    "\n",
    "**Author:** Tony Wu, Head of Science (20/21), UCL DSS\n",
    "\n",
    "**Updated by:** Philip Wilkinson, Head of Science (21/22), UCL DSS\n",
    "\n",
    "**Date** 24 September 2021\n",
    "\n",
    "***Proudly presented by the UCL data Science Society***\n",
    "\n",
    "<b>Acknowledgement</b> The content of this workshop is inspired by [W3 schools](https://www.w3schools.com/python/default.asp)\n",
    "\n",
    "### Introduction\n",
    "\n",
    "Welcome to the first Data Science Society workshop on Python! The aim of these workshops will be to teach you enough Python so that you'll be able to use machine learning algorithms on various datasets for data analysis. We will be avoiding the more complex maths behind these algorithms leaning instead towards packages like Scikit Learn which already provide us with these algorithms. To begin with we will cover the very basics of Python. \n",
    "\n",
    "For the first term, it is expected that we will follow the following workshop outlines:\n",
    "\n",
    "- [Workshop 1: Python fundamentals](https://github.com/UCL-DSS/fundamental-python-workshop)\n",
    "- [Workshop 2: Python Data structures](https://github.com/UCL-DSS/python-sequence-workshop)\n",
    "- [Workshop 3: Python Logic](https://github.com/UCL-DSS/python-logic-workshop)\n",
    "- [Workshop 4: Github](https://github.com/UCL-DSS/git-workshop)\n",
    "- [Workshop 5: SQL](https://github.com/UCL-DSS/SQL_workshop)\n",
    "- [Workshop 6: Numpy](https://github.com/UCL-DSS/numpy-workshop)\n",
    "- [Workshop 7: Pandas](https://github.com/UCL-DSS/pandas-workshop)\n",
    "- [Workshop 8: Matplotlib](https://github.com/UCL-DSS/matplotlib-workshop)\n",
    "- [Workshop 9: Linear regression](https://github.com/UCL-DSS/linear-regression-workshop)\n",
    "- Workshop 10: TBC\n",
    "\n",
    "The first of these workshops is therefore Python fundamentals, with the purpose to introduce you to some of the tools we will be working with over the next two terms and, if we have, to introduce some of the basics of Python and how it works.\n",
    "\n",
    "This workshop specifcally covers:\n",
    "\n",
    "- [Jupter Notebook](#JN)\n",
    "- [Mardown Cells](#MC)\n",
    "- [Code Cells](#CC)\n",
    "- [Commenting](#COM)\n",
    "- [Print Statements](#PRINT)\n",
    "- [Python Variables](#PYVAR)\n",
    "- [Data Types](#DTYP)\n",
    "- [Basic Operations](#BO)"
   ]
  },
  {
   "cell_type": "markdown",
   "metadata": {},
   "source": [
    "<a id = \"JN\"></a>"
   ]
  },
  {
   "cell_type": "markdown",
   "metadata": {},
   "source": [
    "### Jupyter Notebook\n",
    "Throughout these workshops we will be using the Jupyter Notebook editor. In this editor code is run in code cells and text is run in markdown cells. You can change the type of cell using at the top of the page below the words Kernel and Widgets. The options to edit cells are found at the top of the page: \"+\" to create a new cell, scissors to cut a cell etc."
   ]
  },
  {
   "cell_type": "markdown",
   "metadata": {},
   "source": [
    "<a id = \"MC\"></a>"
   ]
  },
  {
   "cell_type": "markdown",
   "metadata": {},
   "source": [
    "### Markdown Cells\n",
    "The text you are reading now is in a markdown cell. To edit the text double click on the cell. To run the cell press `Shift + Enter`. These cells don't actually run code but mainly serve as a means of allowing you to describe what your code is supposed to do, so that you can inform someone else or remind yourself of what your code is doing when you revisit it. These cells also allow for the formatting of equations when you place something in between two single dollar signs. For instance: $ E = mc^2 $. Doing so between two double dollar signs places the equation on a new line like so: \n",
    "\n",
    "$$ \\nabla \\cdot B = 0. $$ \n",
    "\n",
    "Don't worry about what these equations mean but you see what can be done! \n",
    "\n",
    "In these workshops you will see much of a jupyter notebook taken up by markdown code telling you about what the next code cell is expected to do or what you should be inputting into that cell. This is unique to JupyterNotebook and is the reason why this is often used to introduce people to Python and Data Science in general."
   ]
  },
  {
   "cell_type": "markdown",
   "metadata": {},
   "source": [
    "<a id = \"CC\"></a>"
   ]
  },
  {
   "cell_type": "markdown",
   "metadata": {},
   "source": [
    "### Code Cells\n",
    "\n",
    "The other type of cell in a jupyter notebook then is a Code Cell and as the name suggests, is where you actually write the code you are going to run. As with a markdown cell, you can make it work by pressing `shift + Enter` to run the code in that cell. When you run a cell, the output will be displayed below the code cell. \n",
    "\n",
    "Below is a code cell for you to run, don't worry about the code in it for now but just run it and see what happens: "
   ]
  },
  {
   "cell_type": "code",
   "execution_count": null,
   "metadata": {},
   "outputs": [],
   "source": [
    "print(\"If you are reading this, this cell has been run!\")"
   ]
  },
  {
   "cell_type": "markdown",
   "metadata": {},
   "source": [
    "<a id = \"COM\"></a>"
   ]
  },
  {
   "cell_type": "markdown",
   "metadata": {},
   "source": [
    "### Commenting \n",
    "Inside code cells you can write notes by using the `#` symbol. Putting it in front of a line of code means that code won't be run when running the cell. This is useful when you want to see what removing a line of code briefly without deleting the line entirely and having to rewrite it again. Additionally, the # symbol is used in commenting on your code so that another user, or yourself when you return to the code can figure out what that code does. It is good practice to leave comments in your code however they should be consise to avoid overcommenting that may make your code harder to read. If ever in doubt imagine that if you ever undercomment two kittens die and if you ever overcomment one kitten dies. Below is a code cell identical to the one above save for the fact the # symbol is in front of the line of code. If you run the code you will not see any output."
   ]
  },
  {
   "cell_type": "code",
   "execution_count": null,
   "metadata": {},
   "outputs": [],
   "source": [
    "# print(\"If you are reading this, this cell has been run!\")"
   ]
  },
  {
   "cell_type": "markdown",
   "metadata": {},
   "source": [
    "<a id = \"PRINT\"></a>"
   ]
  },
  {
   "cell_type": "markdown",
   "metadata": {},
   "source": [
    "### Print Statements\n",
    "\n",
    "With that in mind then, we can start to understand some of the usefulness of Python and why we use it. One of the first funcionalities of Python is the `print` statement we used above. As the name suggests it \"prints\" the argument you pass to it. \n",
    "\n",
    "We can first see what happens if we run the original code that we ran without the `print` statement?"
   ]
  },
  {
   "cell_type": "code",
   "execution_count": null,
   "metadata": {},
   "outputs": [],
   "source": [
    "\"If you are reading this, this cell has been run!\""
   ]
  },
  {
   "cell_type": "markdown",
   "metadata": {},
   "source": [
    "We can see that the cell still produces the output as we did with the print statement. However, this changes when we have two lines of results we want to print:"
   ]
  },
  {
   "cell_type": "code",
   "execution_count": null,
   "metadata": {},
   "outputs": [],
   "source": [
    "\"Line 1\"\n",
    "\"Line 2\""
   ]
  },
  {
   "cell_type": "markdown",
   "metadata": {},
   "source": [
    "From this only the second line was printed. This is because Python, in Jupyter Notebooks, will only show the final line of output unless stated otherwise. The way to get around this therefore is to have each line inside the `print` statements to ensure that both pieces are outputted:"
   ]
  },
  {
   "cell_type": "code",
   "execution_count": null,
   "metadata": {},
   "outputs": [],
   "source": [
    "print(\"Line 1\")\n",
    "print(\"Line 2\")"
   ]
  },
  {
   "cell_type": "markdown",
   "metadata": {},
   "source": [
    "Commas in ````print```` statements and indeed in all functions are used to seperate different arguments. In ````print```` statements you typically do this when \"printing\" different data types. Passing ````print(\"The population of London is\", 8.136, \"million\")```` will output ````The population of London is 8.136 million````. As can be seen each argument is printed with a space in between them. For this example the arguments in quotation marks are strings; essentially a set of characters, while the second argument is a float; essentially a number. We will discuss data types in more detail later."
   ]
  },
  {
   "cell_type": "code",
   "execution_count": null,
   "metadata": {},
   "outputs": [],
   "source": [
    "print(\"The population of London is\", 8.136, \"million\")"
   ]
  },
  {
   "cell_type": "markdown",
   "metadata": {},
   "source": [
    "Now use the print statement in the code cell below to print a message of your choosing."
   ]
  },
  {
   "cell_type": "code",
   "execution_count": null,
   "metadata": {},
   "outputs": [],
   "source": [
    "print()"
   ]
  },
  {
   "cell_type": "markdown",
   "metadata": {},
   "source": [
    "<a id = \"PYVAR\"></a>"
   ]
  },
  {
   "cell_type": "markdown",
   "metadata": {},
   "source": [
    "### Python Variables\n",
    "\n",
    "While so far we have just printed what we wanted in the print statement, Python can also be used to store information in things called variables. Essentially these act as contains to store data variables and this is done using the `=` operator to assign the data to the specific variable. We can see this by assigning a number and a name to values:\n"
   ]
  },
  {
   "cell_type": "code",
   "execution_count": null,
   "metadata": {},
   "outputs": [],
   "source": [
    "#store the data in variables\n",
    "x = 10\n",
    "y = \"Peter\"\n",
    "\n",
    "#print the values held in the vraibles\n",
    "print(x)\n",
    "print(y)"
   ]
  },
  {
   "cell_type": "markdown",
   "metadata": {},
   "source": [
    "We can see that we have now stored data in variables `x` and `y` and these can be \"called\" later on to output the required information. This is useful when we may want to change the information latter on, such as by adding one, or by using the stored value mutiple times, such as using the same name over and over again. \n",
    "\n",
    "We can see this as below:"
   ]
  },
  {
   "cell_type": "code",
   "execution_count": null,
   "metadata": {},
   "outputs": [],
   "source": [
    "# Defining a variable x as 5\n",
    "x = 5\n",
    "print(\"x =\", x)\n",
    "\n",
    "# Redefining a variable x as a string \"string\"\n",
    "x = \"string\"\n",
    "print(\"x =\", x)\n",
    "\n",
    "# Redefining a variable x as 7\n",
    "x = 7 \n",
    "print(\"x =\", x)\n",
    "\n",
    "# Redefining x as 8 by adding 1 (The same can be done for other mathmatical operations)\n",
    "x = x + 1\n",
    "print(\"x =\", x)\n",
    "\n",
    "# Redefining x as 9 by adding 1 (The same can be done for other mathmatical operations)\n",
    "x += 1\n",
    "print(\"x =\", x)"
   ]
  },
  {
   "cell_type": "markdown",
   "metadata": {},
   "source": [
    "An import part of this is variable naming convention.\n",
    "\n",
    "A variable can have a short name, such as `x` and `y` that we have already done, or a more descrptive name such as `first_name`, `last_name` or `car_age`. However there are rules for this:\n",
    "\n",
    "- A variable name must start with a letter or the underscore character\n",
    "- A variable name cannot start with a number\n",
    "- A varibale name can only contain alpha-numeric characteristics and underscores (A_z, 0-9, and _)\n",
    "- Varibale names are case sensitive\n",
    "\n",
    "Examples that we can use are:"
   ]
  },
  {
   "cell_type": "code",
   "execution_count": null,
   "metadata": {},
   "outputs": [],
   "source": [
    "myvar = \"Peter\"\n",
    "my_var = \"Peter\"\n",
    "_my_var = \"Peter\"\n",
    "myVar = \"Peter\"\n",
    "MYVAR = \"Peter\"\n",
    "myvar2 = \"Peter\""
   ]
  },
  {
   "cell_type": "markdown",
   "metadata": {},
   "source": [
    "Examples that would produce an error would include:"
   ]
  },
  {
   "cell_type": "code",
   "execution_count": null,
   "metadata": {},
   "outputs": [],
   "source": [
    "2myvar = \"Peter\"\n",
    "my-var = \"Peter\"\n",
    "my var = \"Peter\""
   ]
  },
  {
   "cell_type": "markdown",
   "metadata": {},
   "source": [
    "As we get to more complicated names however that contain multiple names, we can use different conventions to make then easier to read:"
   ]
  },
  {
   "cell_type": "code",
   "execution_count": null,
   "metadata": {},
   "outputs": [],
   "source": [
    "#Camel Case\n",
    "#each word, except the first, starts with a capital letter\n",
    "firstName = \"Peter\"\n",
    "\n",
    "#Pascal Case\n",
    "#each word starts with a capital letter\n",
    "FirstName = \"Peter\"\n",
    "\n",
    "#Snake case\n",
    "#each word is seperated by an underscore character\n",
    "first_name = \"Peter\""
   ]
  },
  {
   "cell_type": "markdown",
   "metadata": {},
   "source": [
    "Finally, we can also assign multiple values to multiple variables in one line:"
   ]
  },
  {
   "cell_type": "code",
   "execution_count": null,
   "metadata": {},
   "outputs": [],
   "source": [
    "x, y, z = \"Orange\", \"Banana\", \"Cherry\"\n",
    "print(x)\n",
    "print(y)\n",
    "print(z)"
   ]
  },
  {
   "cell_type": "markdown",
   "metadata": {},
   "source": [
    "Can you use this to assign your first name, last name, age and course to four apropriate named variables and print out the results?"
   ]
  },
  {
   "cell_type": "code",
   "execution_count": null,
   "metadata": {},
   "outputs": [],
   "source": [
    "print()"
   ]
  },
  {
   "cell_type": "markdown",
   "metadata": {},
   "source": [
    "<a id = \"DTYP\"></a>"
   ]
  },
  {
   "cell_type": "markdown",
   "metadata": {},
   "source": [
    "### Data Types\n",
    "\n",
    "We can see above that we have defined some variables as numbers without using speech marks, while we have defined words with speech marks. This is important as it helps us to distinguish between different datatypes, which in programming is a very important concept. \n",
    "\n",
    "Variables are used to store information, as we have already seen, but the type of that data is important for what you can do with that specific varable i.e. addition, subtraction, multiplication or list slicing. By default, Python has the following built in datatypes:\n",
    "\n",
    "- Text type: `str`\n",
    "- Numeric Types: `int`, `float`, `complex`\n",
    "- Sequence Types: `list`, `tuple`, `range`\n",
    "- Mapping Type: `dict`\n",
    "- Set Types: `set`, `frozenset`\n",
    "- Boolean Type: `bool`\n",
    "- Binary Types: `bytes`, `bytearray`, `memoryview`\n",
    "\n",
    "For our purposes here we will cover `str`, `int`, `float` and `boolean` but other datatypes are coevred later on.\n",
    "\n",
    "Firstly, we can define variables of each type and then we get the datatype of that object to see what it is:"
   ]
  },
  {
   "cell_type": "code",
   "execution_count": null,
   "metadata": {},
   "outputs": [],
   "source": [
    "a = 2\n",
    "b = 2.0\n",
    "c = \"Hello World\"\n",
    "d = True"
   ]
  },
  {
   "cell_type": "code",
   "execution_count": null,
   "metadata": {},
   "outputs": [],
   "source": [
    "print(type(a))\n",
    "print(type(b))\n",
    "print(type(c))\n",
    "print(type(d))"
   ]
  },
  {
   "cell_type": "markdown",
   "metadata": {},
   "source": [
    "From this we can see that `a` is an `int`, `b` is a `float`, `c` is a `str` and `d` is `bool`.\n",
    "\n",
    "What this means is that:\n",
    "\n",
    "- `int` is an integer value i.e. with no decimal place\n",
    "- `float` is a numerial value with decimal places\n",
    "- `str` is a string value\n",
    "- `bool` can only take on `True` or `False`\n",
    "\n",
    "To make this simple and to reduce ambiguity you can set the datatype itself:"
   ]
  },
  {
   "cell_type": "code",
   "execution_count": null,
   "metadata": {},
   "outputs": [],
   "source": [
    "a = int(2)\n",
    "b = float(2)\n",
    "c = str(\"Hello World\")\n",
    "d = bool(True)"
   ]
  },
  {
   "cell_type": "code",
   "execution_count": null,
   "metadata": {},
   "outputs": [],
   "source": [
    "print(type(a))\n",
    "print(type(b))\n",
    "print(type(c))\n",
    "print(type(d))"
   ]
  },
  {
   "cell_type": "markdown",
   "metadata": {},
   "source": [
    "But we can also use this method (which is known as casting) to change the datatype of a specific value. For example:"
   ]
  },
  {
   "cell_type": "code",
   "execution_count": null,
   "metadata": {},
   "outputs": [],
   "source": [
    "a = 2\n",
    "print(type(a))\n",
    "b = float(a)\n",
    "print(type(b))"
   ]
  },
  {
   "cell_type": "code",
   "execution_count": null,
   "metadata": {},
   "outputs": [],
   "source": [
    "a = \"2\"\n",
    "print(type(a))\n",
    "b = float(a)\n",
    "print(type(b))"
   ]
  },
  {
   "cell_type": "code",
   "execution_count": null,
   "metadata": {},
   "outputs": [],
   "source": [
    "a = True\n",
    "print(type(a))\n",
    "b = str(a)\n",
    "print(type(b))"
   ]
  },
  {
   "cell_type": "markdown",
   "metadata": {},
   "source": [
    "Of course, in order to cast a variable we need to ensure that it is compatible otherwise an error with be thrown.\n",
    "\n",
    "Can you cast the following float to an integer and string and print out the result?"
   ]
  },
  {
   "cell_type": "code",
   "execution_count": null,
   "metadata": {},
   "outputs": [],
   "source": [
    "a = 27.0\n",
    "print(a)\n",
    "b = \n",
    "print()\n",
    "c = "
   ]
  },
  {
   "cell_type": "markdown",
   "metadata": {},
   "source": [
    "What happens when you try to case `a` to a `bool`?"
   ]
  },
  {
   "cell_type": "code",
   "execution_count": null,
   "metadata": {},
   "outputs": [],
   "source": [
    "d = \n",
    "print()"
   ]
  },
  {
   "cell_type": "markdown",
   "metadata": {},
   "source": [
    "<a id = \"BO\"></a>"
   ]
  },
  {
   "cell_type": "markdown",
   "metadata": {},
   "source": [
    "## Basic Operations\n",
    "\n",
    "As part of Python's basic functionality we also have basic operations that can be perfomed for example addition. Python divides operators into the following groups:\n",
    "\n",
    "- Arithmetic operators\n",
    "- Assignment operators\n",
    "- Comparison operators\n",
    "- Logical operators\n",
    "- Identity operators\n",
    "- Membership operators\n",
    "- Bitwise operators\n",
    "\n",
    "so far we have already seen assignment operators in effect, by assiging a value to a variable. For now we will focus on Arithmateic and Comparison operators, whereby other operators will be introduced in future lecture series.\n",
    "\n",
    "For this, basic arithemtic operators include:\n",
    "- `+` for addition\n",
    "- `-` for subtraction\n",
    "- `*` for multiplication\n",
    "- `/` for division\n",
    "- `%` for modulos\n",
    "- `**` for exponentiation\n",
    "- `//` for floor division\n",
    "\n",
    "We can see how these perform below:"
   ]
  },
  {
   "cell_type": "code",
   "execution_count": null,
   "metadata": {},
   "outputs": [],
   "source": [
    "# Addition\n",
    "print(\"Addition:\", 2 + 2)\n",
    "\n",
    "# Subtraction \n",
    "print(\"Subtraction:\", 5 - 2)\n",
    "\n",
    "# Multiplication\n",
    "print(\"Multiplication:\", 2*4)\n",
    "\n",
    "# Division\n",
    "print(\"Division:\", 6/3)\n",
    "\n",
    "# Powers\n",
    "print(\"Powers:\", 5**3)\n",
    "\n",
    "# Division without remainder \n",
    "print(\"Divison without remainder:\", 7//3)\n",
    "\n",
    "# Returns remainder\n",
    "print(\"Division returning the remainder:\", 7%3)"
   ]
  },
  {
   "cell_type": "markdown",
   "metadata": {},
   "source": [
    "Be aware that is often easy to make syntax errors when performing mathmatical operations. Sometimes this involves writing something to the effect of ````2x```` instead of ````2*x```` where the former would look for a variable defined as ````2x```` and the latter would multiply a variable ````x```` by $2$. In large calculations when using brackets it is very easy to make mistakes so be alert for potential mistakes. Clarity of code is important to help make it easier to read and spot mistakes. Often rather than having an entire calculation in one messy line of code its often best to split the calculation into several lines that are easier to read. \n",
    "\n",
    "In the code cell below print the result of the following operations: $$ 4^7 $$ $$ 8\\times123 $$ $$ \\frac{4523}{84} $$"
   ]
  },
  {
   "cell_type": "code",
   "execution_count": null,
   "metadata": {},
   "outputs": [],
   "source": [
    "# 4 to the power of 7\n",
    "print()\n",
    "\n",
    "# 8 x 123\n",
    "print()\n",
    "\n",
    "# 4523 divided by 84\n",
    "print()"
   ]
  },
  {
   "cell_type": "markdown",
   "metadata": {},
   "source": [
    "Then we also have comparison operators that are used to compare values. These include:\n",
    "\n",
    "- `==` for Equal\n",
    "- `!=` for Not Equal\n",
    "- `<` for Less than\n",
    "- `>` for Greater Than\n",
    "- `>=` for Greater than or equal to\n",
    "- `<=` for Less than or equal to\n",
    "\n",
    "Which can be tested as follows:"
   ]
  },
  {
   "cell_type": "code",
   "execution_count": null,
   "metadata": {},
   "outputs": [],
   "source": [
    "#for equal\n",
    "print(\"5 is equal to 5:\", 5 == 5)\n",
    "\n",
    "#for not equal\n",
    "print(\"5 is not equal to 4:\", 5 != 4)\n",
    "\n",
    "#for less than\n",
    "print(\"3 is less than 5:\", 3 < 5)\n",
    "\n",
    "#for greater than\n",
    "print(\"5 is greater than 3:\", 5 > 3)\n",
    "\n",
    "#for greater than or equal to\n",
    "print(\"5 is greater than or equal to 3:\", 5 >= 3)\n",
    "\n",
    "#for less than or equal to\n",
    "print(\"3 is less than or equal to 5:\", 3 <= 5)"
   ]
  },
  {
   "cell_type": "markdown",
   "metadata": {},
   "source": [
    "Can you see what has happened here and why they have behaved this way?\n",
    "\n",
    "Can you then change these so instead of `True` they all return False?"
   ]
  },
  {
   "cell_type": "code",
   "execution_count": null,
   "metadata": {},
   "outputs": [],
   "source": [
    "#for equal\n",
    "print(\"5 is equal to 5:\", 5 == 5)\n",
    "\n",
    "#for not equal\n",
    "print(\"5 is not equal to 4:\", 5 != 4)\n",
    "\n",
    "#for less than\n",
    "print(\"3 is less than 5:\", 3 < 5)\n",
    "\n",
    "#for greater than\n",
    "print(\"5 is greater than 3:\", 5 > 3)\n",
    "\n",
    "#for greater than or equal to\n",
    "print(\"5 is greater than or equal to 3:\", 5 >= 3)\n",
    "\n",
    "#for less than or equal to\n",
    "print(\"3 is less than or equal to 5:\", 3 <= 5)"
   ]
  },
  {
   "cell_type": "markdown",
   "metadata": {},
   "source": [
    "Of course, each of these operations and what can be done with them will depend on the data type you are working with. While addition may work well for `floats` and `intergers` for example, it can behave very differently with `strings`.\n",
    "\n",
    "For example, is the following output what you would expect?"
   ]
  },
  {
   "cell_type": "code",
   "execution_count": null,
   "metadata": {},
   "outputs": [],
   "source": [
    "#additions\n",
    "print(\"Hello\" + \"World\")\n",
    "\n",
    "#multiplication\n",
    "print(\"Hello world \" * 3)\n",
    "\n",
    "#comparison\n",
    "print(\"A\" == \"A\")\n",
    "print(\"A\" == \"a\")\n",
    "\n",
    "#less than\n",
    "print(\"A\" < \"a\")\n",
    "\n",
    "#greater than\n",
    "print(\"c\" > \"b\")"
   ]
  },
  {
   "cell_type": "markdown",
   "metadata": {},
   "source": [
    "## Further Work (Optional)\n",
    "At the end of the workshops I may include content that I feel is too maths oriented for the workshops. The idea here is that you are free to explore these but they will not be covered in workshops. \n",
    "### Complex Numbers\n",
    "In addition to the float and integer data types there is also a complex number data type. The function ````complex(u,v)```` generates a complex number with a real component ````u```` and imaginary component ````v````. Note that $j$ is used as the imaginary unit in Python."
   ]
  },
  {
   "cell_type": "code",
   "execution_count": null,
   "metadata": {},
   "outputs": [],
   "source": [
    "# Creates a complex number z = 2 + 4j\n",
    "z = complex(2,4)\n",
    "print(z)\n",
    "\n",
    "# Alternatively \n",
    "z = 2 + 4j\n",
    "print(z)\n",
    "\n",
    "# Real part of z\n",
    "z_real = z.real\n",
    "print(z_real)\n",
    "\n",
    "# Imaginary part of z\n",
    "z_imag = z.imag\n",
    "print(z_imag)\n",
    "\n",
    "# Returns the conjugate of the complex number\n",
    "z_conj = z.conjugate()\n",
    "print(z_conj)"
   ]
  }
 ],
 "metadata": {
  "kernelspec": {
   "display_name": "DSS",
   "language": "python",
   "name": "dss"
  },
  "language_info": {
   "codemirror_mode": {
    "name": "ipython",
    "version": 3
   },
   "file_extension": ".py",
   "mimetype": "text/x-python",
   "name": "python",
   "nbconvert_exporter": "python",
   "pygments_lexer": "ipython3",
   "version": "3.9.6"
  }
 },
 "nbformat": 4,
 "nbformat_minor": 2
}
